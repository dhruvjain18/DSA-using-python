{
 "cells": [
  {
   "cell_type": "markdown",
   "id": "19b3f0af",
   "metadata": {},
   "source": [
    "# Inorder Traversal"
   ]
  },
  {
   "cell_type": "code",
   "execution_count": 3,
   "id": "85262595",
   "metadata": {},
   "outputs": [
    {
     "name": "stdout",
     "output_type": "stream",
     "text": [
      "20 10 40 30 50 "
     ]
    }
   ],
   "source": [
    "class Node:\n",
    "    def __init__(self,k):\n",
    "        self.left = None\n",
    "        self.right = None\n",
    "        self.key = k\n",
    "\n",
    "def inorder(root):\n",
    "    if root != None:\n",
    "        inorder(root.left)\n",
    "        print(root.key, end=\" \")\n",
    "        inorder(root.right)\n",
    "\n",
    "#Driver Code\n",
    "root = Node(10)\n",
    "root.left = Node(20)\n",
    "root.right = Node(30)\n",
    "root.right.left = Node(40)\n",
    "root.right.right = Node(50)\n",
    "\n",
    "inorder(root)"
   ]
  },
  {
   "cell_type": "markdown",
   "id": "f32862f8",
   "metadata": {},
   "source": [
    "# Preorder Traversal"
   ]
  },
  {
   "cell_type": "code",
   "execution_count": 4,
   "id": "37d00bf3",
   "metadata": {},
   "outputs": [
    {
     "name": "stdout",
     "output_type": "stream",
     "text": [
      "10 20 30 40 50 "
     ]
    }
   ],
   "source": [
    "class Node:\n",
    "    def __init__(self,k):\n",
    "        self.left = None\n",
    "        self.right = None\n",
    "        self.key = k\n",
    "\n",
    "def preorder(root):\n",
    "    if root != None:\n",
    "        print(root.key, end=\" \")\n",
    "        preorder(root.left)\n",
    "        preorder(root.right)\n",
    "\n",
    "#Driver Code\n",
    "root = Node(10)\n",
    "root.left = Node(20)\n",
    "root.right = Node(30)\n",
    "root.right.left = Node(40)\n",
    "root.right.right = Node(50)\n",
    "\n",
    "preorder(root)"
   ]
  },
  {
   "cell_type": "markdown",
   "id": "6559533b",
   "metadata": {},
   "source": [
    "# Postorder Traversal"
   ]
  },
  {
   "cell_type": "code",
   "execution_count": 5,
   "id": "71523480",
   "metadata": {},
   "outputs": [
    {
     "name": "stdout",
     "output_type": "stream",
     "text": [
      "20 40 50 30 10 "
     ]
    }
   ],
   "source": [
    "class Node:\n",
    "    def __init__(self,k):\n",
    "        self.left = None\n",
    "        self.right = None\n",
    "        self.key = k\n",
    "\n",
    "def postorder(root):\n",
    "    if root != None:\n",
    "        postorder(root.left)\n",
    "        postorder(root.right)\n",
    "        print(root.key, end=\" \")\n",
    "\n",
    "#Driver Code\n",
    "root = Node(10)\n",
    "root.left = Node(20)\n",
    "root.right = Node(30)\n",
    "root.right.left = Node(40)\n",
    "root.right.right = Node(50)\n",
    "\n",
    "postorder(root)"
   ]
  },
  {
   "cell_type": "markdown",
   "id": "1044a5a4",
   "metadata": {},
   "source": [
    "# Size of a Binary Tree (No. of Nodes in a tree)"
   ]
  },
  {
   "cell_type": "code",
   "execution_count": 10,
   "id": "6a95d741",
   "metadata": {},
   "outputs": [
    {
     "data": {
      "text/plain": [
       "6"
      ]
     },
     "execution_count": 10,
     "metadata": {},
     "output_type": "execute_result"
    }
   ],
   "source": [
    "class Node:\n",
    "    def __init__(self,k):\n",
    "        self.left = None\n",
    "        self.right = None\n",
    "        self.key = k\n",
    "\n",
    "def size_tree(root):\n",
    "    if root != None:\n",
    "        ls = size_tree(root.left)\n",
    "        rs = size_tree(root.right)\n",
    "        return ls + rs + 1   # we add 1 for calculate current node\n",
    "    else:\n",
    "        return 0\n",
    "\n",
    "#Driver Code\n",
    "root = Node(10)\n",
    "root.left = Node(20)\n",
    "root.right = Node(30)\n",
    "root.right.left = Node(40)\n",
    "root.right.right = Node(50)\n",
    "root.right.right.left = Node(60)\n",
    "\n",
    "size_tree(root)"
   ]
  },
  {
   "cell_type": "markdown",
   "id": "e0074fbb",
   "metadata": {},
   "source": [
    "# Maximum node value in a Binary Tree"
   ]
  },
  {
   "cell_type": "code",
   "execution_count": 11,
   "id": "01068aae",
   "metadata": {},
   "outputs": [
    {
     "data": {
      "text/plain": [
       "60"
      ]
     },
     "execution_count": 11,
     "metadata": {},
     "output_type": "execute_result"
    }
   ],
   "source": [
    "class Node:\n",
    "    def __init__(self,k):\n",
    "        self.left = None\n",
    "        self.right = None\n",
    "        self.key = k\n",
    "\n",
    "def max_node(root):\n",
    "    if root != None:\n",
    "        ls = max_node(root.left)\n",
    "        rs = max_node(root.right)\n",
    "        return max(ls,rs,root.key)   # we add 1 for calculate current node\n",
    "    else:\n",
    "        return -999\n",
    "\n",
    "#Driver Code\n",
    "root = Node(10)\n",
    "root.left = Node(20)\n",
    "root.right = Node(30)e\n",
    "root.right.left = Node(40)\n",
    "root.right.right = Node(50)\n",
    "root.right.right.left = Node(60)\n",
    "\n",
    "max_node(root)"
   ]
  },
  {
   "cell_type": "markdown",
   "id": "5c897963",
   "metadata": {},
   "source": [
    "# Search in a Binary Tree"
   ]
  },
  {
   "cell_type": "code",
   "execution_count": 23,
   "id": "17cd4d1f",
   "metadata": {},
   "outputs": [
    {
     "data": {
      "text/plain": [
       "False"
      ]
     },
     "execution_count": 23,
     "metadata": {},
     "output_type": "execute_result"
    }
   ],
   "source": [
    "class Node:\n",
    "    def __init__(self,k):\n",
    "        self.left = None\n",
    "        self.right = None\n",
    "        self.key = k\n",
    "        \n",
    "def search_key(root,target):\n",
    "    if root == None:\n",
    "        return False\n",
    "    elif root.key == target:\n",
    "        return True\n",
    "    elif search_key(root.left,target) == True:\n",
    "        return True\n",
    "    elif search_key(root.right,target) == True:\n",
    "        return True\n",
    "    else:\n",
    "        return False\n",
    "    \n",
    "#Driver Code\n",
    "root = Node(10)\n",
    "root = Node(10)\n",
    "root.left = Node(20)\n",
    "root.right = Node(30)\n",
    "root.right.left = Node(40)\n",
    "root.right.right = Node(50)\n",
    "\n",
    "search_key(root,60)"
   ]
  },
  {
   "cell_type": "markdown",
   "id": "3282b458",
   "metadata": {},
   "source": [
    "# Height of a Binary Tree"
   ]
  },
  {
   "cell_type": "code",
   "execution_count": 27,
   "id": "9e187435",
   "metadata": {},
   "outputs": [
    {
     "data": {
      "text/plain": [
       "4"
      ]
     },
     "execution_count": 27,
     "metadata": {},
     "output_type": "execute_result"
    }
   ],
   "source": [
    "class Node:\n",
    "    def __init__(self,k):\n",
    "        self.left = None\n",
    "        self.right = None\n",
    "        self.key = k\n",
    "        \n",
    "def height(root):\n",
    "    if root != None:\n",
    "        ls = height(root.left)\n",
    "        rs = height(root.right)\n",
    "        return max(ls,rs) + 1\n",
    "    else:\n",
    "        return 0\n",
    "\n",
    "#Driver Code\n",
    "root = Node(10)\n",
    "root.left = Node(20)\n",
    "root.right = Node(30)\n",
    "root.left.right = Node(40)\n",
    "root.left.right.left = Node(50)\n",
    "\n",
    "height(root)"
   ]
  },
  {
   "cell_type": "markdown",
   "id": "fd8de5fd",
   "metadata": {},
   "source": [
    "# Inorder Traversal (without recursion)"
   ]
  },
  {
   "cell_type": "code",
   "execution_count": 31,
   "id": "94ee0ff4",
   "metadata": {},
   "outputs": [
    {
     "name": "stdout",
     "output_type": "stream",
     "text": [
      "20 10 40 30 50 "
     ]
    }
   ],
   "source": [
    "class Node:\n",
    "    def __init__(self,k):\n",
    "        self.left = None\n",
    "        self.right = None\n",
    "        self.key = k\n",
    "\n",
    "def inorder(root):\n",
    "    if root == None:\n",
    "        return \n",
    "    else:\n",
    "        stack = []\n",
    "        curr = root\n",
    "        while curr != None:\n",
    "            stack.append(curr)\n",
    "            curr = curr.left\n",
    "        while len(stack) > 0:\n",
    "            curr = stack.pop()\n",
    "            print(curr.key,end=\" \")\n",
    "            curr = curr.right\n",
    "            while curr != None:\n",
    "                stack.append(curr)\n",
    "                curr = curr.left\n",
    "\n",
    "#Driver Code\n",
    "root = Node(10)\n",
    "root.left = Node(20)\n",
    "root.right = Node(30)\n",
    "root.right.left = Node(40)\n",
    "root.right.right = Node(50)\n",
    "\n",
    "inorder(root)"
   ]
  },
  {
   "cell_type": "markdown",
   "id": "f094af2b",
   "metadata": {},
   "source": [
    "# Preorder Traversal (without recursion)"
   ]
  },
  {
   "cell_type": "code",
   "execution_count": null,
   "id": "77d1670c",
   "metadata": {},
   "outputs": [
    {
     "name": "stdout",
     "output_type": "stream",
     "text": [
      "10 20 30 40 50 "
     ]
    }
   ],
   "source": [
    "class Node:\n",
    "    def __init__(self,k):\n",
    "        self.left = None\n",
    "        self.right = None\n",
    "        self.key = k\n",
    "\n",
    "def preorder(root):\n",
    "    if root == None:\n",
    "        return \n",
    "    else:\n",
    "        stack = []\n",
    "        stack.append(root)\n",
    "        while len(stack) > 0:\n",
    "            curr = stack.pop()\n",
    "            print(curr.key, end=\" \")\n",
    "            if curr.right != None:\n",
    "                stack.append(curr.right)\n",
    "            if curr.left != None:\n",
    "                stack.append(curr.left)\n",
    "\n",
    "#Driver Code\n",
    "root = Node(10)\n",
    "root.left = Node(20)\n",
    "root.right = Node(30)\n",
    "root.right.left = Node(40)\n",
    "root.right.right = Node(50)\n",
    "\n",
    "preorder(root)"
   ]
  },
  {
   "cell_type": "markdown",
   "id": "ece76387",
   "metadata": {},
   "source": [
    "# Leval Order Traversal"
   ]
  },
  {
   "cell_type": "code",
   "execution_count": 34,
   "id": "a147d420",
   "metadata": {},
   "outputs": [
    {
     "name": "stdout",
     "output_type": "stream",
     "text": [
      "10 20 30 40 50 "
     ]
    }
   ],
   "source": [
    "from collections import deque\n",
    "class Node:\n",
    "    def __init__(self,k):\n",
    "        self.left = None\n",
    "        self.right = None\n",
    "        self.key = k\n",
    "\n",
    "def levalorder(root):\n",
    "    if root == None:\n",
    "        return \n",
    "    else:\n",
    "        q = deque()\n",
    "        q.append(root)\n",
    "        while len(q) > 0:\n",
    "            curr = q.popleft()\n",
    "            print(curr.key, end=\" \")\n",
    "            if curr.left != None:\n",
    "                q.append(curr.left)\n",
    "            if curr.right != None:\n",
    "                q.append(curr.right)\n",
    "\n",
    "#Driver Code\n",
    "root = Node(10)\n",
    "root.left = Node(20)\n",
    "root.right = Node(30)\n",
    "root.right.left = Node(40)\n",
    "root.right.right = Node(50)\n",
    "\n",
    "levalorder(root)"
   ]
  },
  {
   "cell_type": "code",
   "execution_count": null,
   "id": "d89681d6",
   "metadata": {},
   "outputs": [],
   "source": []
  }
 ],
 "metadata": {
  "kernelspec": {
   "display_name": "Python 3 (ipykernel)",
   "language": "python",
   "name": "python3"
  },
  "language_info": {
   "codemirror_mode": {
    "name": "ipython",
    "version": 3
   },
   "file_extension": ".py",
   "mimetype": "text/x-python",
   "name": "python",
   "nbconvert_exporter": "python",
   "pygments_lexer": "ipython3",
   "version": "3.9.7"
  },
  "vscode": {
   "interpreter": {
    "hash": "0f481fa5e8826e937345b7aaf685ffda67ada97815aa1e80afb245b713556eac"
   }
  }
 },
 "nbformat": 4,
 "nbformat_minor": 5
}
